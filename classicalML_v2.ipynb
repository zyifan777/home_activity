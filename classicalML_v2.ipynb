{
 "cells": [
  {
   "cell_type": "markdown",
   "metadata": {},
   "source": [
    "# Classical ML Training and Results V2 "
   ]
  },
  {
   "cell_type": "markdown",
   "metadata": {},
   "source": [
    "## INITIALIZATION"
   ]
  },
  {
   "cell_type": "code",
   "execution_count": 2,
   "metadata": {},
   "outputs": [],
   "source": [
    "from sklearn import svm\n",
    "from sklearn.model_selection import ShuffleSplit\n",
    "from sklearn.naive_bayes import GaussianNB\n",
    "from sklearn.ensemble import GradientBoostingClassifier\n",
    "import numpy as np\n",
    "import matplotlib.pyplot as plt\n",
    "from sklearn.utils import shuffle \n",
    "import statistics as stats\n",
    "from sklearn.model_selection import cross_val_score\n",
    "from sklearn.linear_model import LinearRegression"
   ]
  },
  {
   "cell_type": "markdown",
   "metadata": {},
   "source": [
    "## MODEL INITIALIZATION"
   ]
  },
  {
   "cell_type": "code",
   "execution_count": 3,
   "metadata": {},
   "outputs": [],
   "source": [
    "# read data from csv file and put into one matrix \n",
    "# same process of v1\n",
    "def readData(filename,x1):\n",
    "    f = open(\"data/\"+filename,'r')\n",
    "    for row in f:\n",
    "        data = [int(p) for p in row.split(',')]\n",
    "        x1.append(np.array(data))\n",
    "    return \n",
    "\n",
    "x = []\n",
    "readData(\"getOutBed.csv\",x)\n",
    "readData(\"getOnBed.csv\",x)\n",
    "readData(\"layOnBed.csv\",x)\n",
    "readData(\"sitOnBed.csv\",x)"
   ]
  },
  {
   "cell_type": "code",
   "execution_count": 4,
   "metadata": {},
   "outputs": [],
   "source": [
    "# make X an numpy array and initialize Y \n",
    "x = np.array(x)\n",
    "y = np.array([1]*120+[0]*120)"
   ]
  },
  {
   "cell_type": "markdown",
   "metadata": {},
   "source": [
    "## FEATURE EXTRACTION"
   ]
  },
  {
   "cell_type": "code",
   "execution_count": 5,
   "metadata": {},
   "outputs": [],
   "source": [
    "x_feature = []\n",
    "for r in x:\n",
    "    s1, s2, s3 = r[:20000], r[20000:40000], r[40000:]\n",
    "    temp1 = [stats.mean(s1), stats.median(s1), stats.variance(s1), max(s1), min(s1)]\n",
    "    temp2 = [stats.mean(s2), stats.median(s2), stats.variance(s2), max(s2), min(s2)]\n",
    "    temp3 = [stats.mean(s3), stats.median(s3), stats.variance(s3), max(s3), min(s3)]\n",
    "#     print temp1\n",
    "    x_feature.append(np.array(temp1+temp2+temp3))\n"
   ]
  },
  {
   "cell_type": "code",
   "execution_count": 6,
   "metadata": {},
   "outputs": [],
   "source": [
    "x_feature = np.array(x_feature)"
   ]
  },
  {
   "cell_type": "markdown",
   "metadata": {},
   "source": [
    "## BALANCING SAMPLES"
   ]
  },
  {
   "cell_type": "code",
   "execution_count": 7,
   "metadata": {},
   "outputs": [],
   "source": [
    "index = 120+np.random.choice(360,240,replace=False)"
   ]
  },
  {
   "cell_type": "code",
   "execution_count": 8,
   "metadata": {},
   "outputs": [
    {
     "name": "stdout",
     "output_type": "stream",
     "text": [
      "15\n"
     ]
    }
   ],
   "source": [
    "x_lst = x_feature.tolist()\n",
    "print len(x_lst[0])\n",
    "for i in sorted(index, reverse=True):\n",
    "    del x_lst[i]"
   ]
  },
  {
   "cell_type": "code",
   "execution_count": 9,
   "metadata": {},
   "outputs": [],
   "source": [
    "x_feature = np.array(x_lst)"
   ]
  },
  {
   "cell_type": "code",
   "execution_count": 10,
   "metadata": {},
   "outputs": [
    {
     "name": "stdout",
     "output_type": "stream",
     "text": [
      "(240, 15)\n"
     ]
    }
   ],
   "source": [
    "print x_feature.shape"
   ]
  },
  {
   "cell_type": "code",
   "execution_count": 12,
   "metadata": {},
   "outputs": [
    {
     "name": "stdout",
     "output_type": "stream",
     "text": [
      "(<type 'numpy.ndarray'>, <type 'numpy.ndarray'>)\n",
      "(192, 15, 192, 48, 15, 48)\n"
     ]
    }
   ],
   "source": [
    "# shuffle X and Y correspondingly \n",
    "X, Y = shuffle(x_feature, y, random_state = 34)\n",
    "offset = int(len(X)*0.8)\n",
    "X_train, Y_train = X[:offset], Y[:offset]\n",
    "X_test, Y_test = X[offset:], Y[offset:]\n",
    "print (type(X_train), type(Y_train))\n",
    "print (len(X_train), len(X_train[0]), len(Y_train), len(X_test), len(X_test[0]), len(Y_test))"
   ]
  },
  {
   "cell_type": "markdown",
   "metadata": {},
   "source": [
    "## LINEAR REGRESSION"
   ]
  },
  {
   "cell_type": "code",
   "execution_count": 14,
   "metadata": {},
   "outputs": [],
   "source": [
    "reg = LinearRegression().fit(X_train, Y_train)\n"
   ]
  },
  {
   "cell_type": "code",
   "execution_count": 15,
   "metadata": {},
   "outputs": [
    {
     "data": {
      "text/plain": [
       "0.5047366995199458"
      ]
     },
     "execution_count": 15,
     "metadata": {},
     "output_type": "execute_result"
    }
   ],
   "source": [
    "reg.score(X_test, Y_test)"
   ]
  },
  {
   "cell_type": "markdown",
   "metadata": {},
   "source": [
    "## SVM "
   ]
  },
  {
   "cell_type": "code",
   "execution_count": 11,
   "metadata": {},
   "outputs": [
    {
     "name": "stdout",
     "output_type": "stream",
     "text": [
      "[LibSVM]"
     ]
    },
    {
     "data": {
      "text/plain": [
       "SVC(C=1.0, cache_size=200, class_weight=None, coef0=0.0,\n",
       "  decision_function_shape='ovr', degree=3, gamma='scale', kernel='rbf',\n",
       "  max_iter=5000, probability=False, random_state=None, shrinking=True,\n",
       "  tol=0.001, verbose=True)"
      ]
     },
     "execution_count": 11,
     "metadata": {},
     "output_type": "execute_result"
    }
   ],
   "source": [
    "# training of SVM \n",
    "clf = svm.SVC(gamma='scale',max_iter=5000, verbose=True)\n",
    "clf.fit(X_train, Y_train) "
   ]
  },
  {
   "cell_type": "code",
   "execution_count": 12,
   "metadata": {},
   "outputs": [
    {
     "name": "stdout",
     "output_type": "stream",
     "text": [
      "0.75\n"
     ]
    }
   ],
   "source": [
    "# Verification of SVM \n",
    "results = clf.predict(X_test)\n",
    "correct = 0\n",
    "for i in xrange(len(results)):\n",
    "    if results[i] == Y_test[i]:\n",
    "        correct+=1\n",
    "print (correct/float(len(Y_test)))"
   ]
  },
  {
   "cell_type": "markdown",
   "metadata": {},
   "source": [
    "## GAUSSIAN NAIVE BAYES"
   ]
  },
  {
   "cell_type": "code",
   "execution_count": 13,
   "metadata": {},
   "outputs": [
    {
     "data": {
      "text/plain": [
       "GaussianNB(priors=None, var_smoothing=1e-09)"
      ]
     },
     "execution_count": 13,
     "metadata": {},
     "output_type": "execute_result"
    }
   ],
   "source": [
    "# training \n",
    "clf_nb = GaussianNB()\n",
    "clf_nb.fit(X_train, Y_train)"
   ]
  },
  {
   "cell_type": "code",
   "execution_count": 14,
   "metadata": {},
   "outputs": [
    {
     "name": "stdout",
     "output_type": "stream",
     "text": [
      "[1 0 1 0 0 1 0 1 1 0 1 0 0 1 1 1 0 1 1 1 1 1 0 1 0 0 0 1 1 1 0 0 0 0 1 1 1\n",
      " 1 0 1 0 1 1 0 1 0 0 0]\n"
     ]
    }
   ],
   "source": [
    "results_nb = clf_nb.predict(X_test)\n",
    "print results"
   ]
  },
  {
   "cell_type": "code",
   "execution_count": 15,
   "metadata": {},
   "outputs": [
    {
     "name": "stdout",
     "output_type": "stream",
     "text": [
      "0.833333333333\n"
     ]
    }
   ],
   "source": [
    "# verification\n",
    "c_nb = 0 \n",
    "for i in xrange(len(results_nb)):\n",
    "    if results_nb[i] == Y_test[i]:\n",
    "        c_nb += 1\n",
    "print (c_nb/float(len(Y_test)))"
   ]
  },
  {
   "cell_type": "markdown",
   "metadata": {},
   "source": [
    "## GRADIENT BOOSTING CLASSIFIER"
   ]
  },
  {
   "cell_type": "code",
   "execution_count": 55,
   "metadata": {},
   "outputs": [
    {
     "name": "stdout",
     "output_type": "stream",
     "text": [
      "      Iter       Train Loss   Remaining Time \n",
      "         1           0.5330            0.65s\n",
      "         2           0.3273            0.59s\n",
      "         3           0.2288            0.55s\n",
      "         4           0.1385            0.51s\n",
      "         5           0.1053            0.50s\n",
      "         6           0.0730            0.50s\n",
      "         7           0.0515            0.49s\n",
      "         8           0.0457            0.47s\n",
      "         9           0.0374            0.47s\n",
      "        10           0.0307            0.47s\n",
      "        20           0.0055            0.38s\n",
      "        30           0.0008            0.34s\n",
      "        40           0.0003            0.30s\n",
      "        50           0.0003            0.26s\n",
      "        60           0.0003            0.23s\n",
      "        70           0.0003            0.21s\n",
      "        80           0.0003            0.19s\n",
      "        90           0.0003            0.18s\n",
      "       100           0.0003            0.17s\n",
      "       200           0.0003            0.09s\n",
      "       300           0.0003            0.05s\n",
      "       400           0.0003            0.02s\n",
      "       500           0.0003            0.00s\n"
     ]
    }
   ],
   "source": [
    "clf_gbc = GradientBoostingClassifier(n_estimators=500, learning_rate=1.0,max_depth=3, random_state=0, verbose = True).fit(X_train, Y_train)"
   ]
  },
  {
   "cell_type": "code",
   "execution_count": 56,
   "metadata": {},
   "outputs": [
    {
     "data": {
      "text/plain": [
       "0.8541666666666666"
      ]
     },
     "execution_count": 56,
     "metadata": {},
     "output_type": "execute_result"
    }
   ],
   "source": [
    "# verification\n",
    "clf_gbc.score(X_test,Y_test)"
   ]
  },
  {
   "cell_type": "markdown",
   "metadata": {},
   "source": [
    "### Cross Validation -- Tune Max Depth for GBC"
   ]
  },
  {
   "cell_type": "code",
   "execution_count": 57,
   "metadata": {},
   "outputs": [
    {
     "name": "stdout",
     "output_type": "stream",
     "text": [
      "([0.8770833333333334, 0.875, 0.8729166666666666, 0.8791666666666668, 0.8458333333333334, 0.8416666666666666, 0.8416666666666666, 0.8416666666666666, 0.8416666666666666], [0.02411632688081298, 0.013176156917368235, 0.015309310892394868, 0.022438186696393768, 0.025, 0.034485302827597604, 0.0318688719599549, 0.0318688719599549, 0.0318688719599549])\n"
     ]
    }
   ],
   "source": [
    "scores = []\n",
    "std_scores = []\n",
    "for i in range(1,10):\n",
    "    clf_gbc = GradientBoostingClassifier(n_estimators=500, learning_rate=1.0,max_depth=i, random_state=0, verbose = False)\n",
    "    cv = ShuffleSplit(n_splits=5, test_size=0.4, random_state=0)\n",
    "    this_score = cross_val_score(clf_gbc, X, Y,cv=cv, verbose=0)\n",
    "    scores.append(np.mean(this_score))\n",
    "    std_scores.append(np.std(this_score))\n",
    "print(scores, std_scores)"
   ]
  },
  {
   "cell_type": "code",
   "execution_count": 58,
   "metadata": {},
   "outputs": [
    {
     "data": {
      "image/png": "[encoded data removed]",
      "text/plain": [
       "<Figure size 432x288 with 1 Axes>"
      ]
     },
     "metadata": {
      "needs_background": "light"
     },
     "output_type": "display_data"
    }
   ],
   "source": [
    "plt.plot(np.array(scores),)\n",
    "plt.plot(np.array(scores)+np.array(std_scores),'b--')\n",
    "plt.plot(np.array(scores)-np.array(std_scores),'b--')\n",
    "plt.xlabel(\"Max Depth\")\n",
    "plt.ylabel(\"CV Score\")\n",
    "plt.show()"
   ]
  },
  {
   "cell_type": "code",
   "execution_count": null,
   "metadata": {},
   "outputs": [],
   "source": []
  }
 ],
 "metadata": {
  "kernelspec": {
   "display_name": "Python 2",
   "language": "python",
   "name": "python2"
  },
  "language_info": {
   "codemirror_mode": {
    "name": "ipython",
    "version": 2
   },
   "file_extension": ".py",
   "mimetype": "text/x-python",
   "name": "python",
   "nbconvert_exporter": "python",
   "pygments_lexer": "ipython2",
   "version": "2.7.15"
  }
 },
 "nbformat": 4,
 "nbformat_minor": 2
}
