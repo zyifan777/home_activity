{
 "cells": [
  {
   "cell_type": "markdown",
   "metadata": {},
   "source": [
    "# Classical ML Training and Results V2 "
   ]
  },
  {
   "cell_type": "markdown",
   "metadata": {},
   "source": [
    "## INITIALIZATION"
   ]
  },
  {
   "cell_type": "code",
   "execution_count": 5,
   "metadata": {},
   "outputs": [],
   "source": [
    "from sklearn import svm\n",
    "from sklearn.model_selection import ShuffleSplit\n",
    "from sklearn.naive_bayes import GaussianNB\n",
    "from sklearn.ensemble import GradientBoostingClassifier\n",
    "import numpy as np\n",
    "import matplotlib.pyplot as plt\n",
    "from sklearn.utils import shuffle \n",
    "import statistics as stats"
   ]
  },
  {
   "cell_type": "markdown",
   "metadata": {},
   "source": [
    "## MODEL INITIALIZATION"
   ]
  },
  {
   "cell_type": "code",
   "execution_count": 3,
   "metadata": {},
   "outputs": [],
   "source": [
    "# read data from csv file and put into one matrix \n",
    "# same process of v1\n",
    "def readData(filename,x1):\n",
    "    f = open(\"data/\"+filename,'r')\n",
    "    for row in f:\n",
    "        data = [int(p) for p in row.split(',')]\n",
    "        x1.append(np.array(data))\n",
    "    return \n",
    "\n",
    "x = []\n",
    "readData(\"getOutBed.csv\",x)\n",
    "readData(\"getOnBed.csv\",x)\n",
    "readData(\"layOnBed.csv\",x)\n",
    "readData(\"sitOnBed.csv\",x)"
   ]
  },
  {
   "cell_type": "code",
   "execution_count": 4,
   "metadata": {},
   "outputs": [],
   "source": [
    "# make X an numpy array and initialize Y \n",
    "x = np.array(x)\n",
    "y = np.array([1]*120+[0]*360)"
   ]
  },
  {
   "cell_type": "markdown",
   "metadata": {},
   "source": [
    "## FEATURE EXTRACTION"
   ]
  },
  {
   "cell_type": "code",
   "execution_count": 8,
   "metadata": {},
   "outputs": [],
   "source": [
    "x_feature = []\n",
    "for r in x:\n",
    "    s1, s2, s3 = r[:20000], r[20000:40000], r[40000:]\n",
    "    temp1 = [stats.mean(s1), stats.median(s1), stats.variance(s1), max(s1), min(s1)]\n",
    "    temp2 = [stats.mean(s2), stats.median(s2), stats.variance(s2), max(s2), min(s2)]\n",
    "    temp3 = [stats.mean(s3), stats.median(s3), stats.variance(s3), max(s3), min(s3)]\n",
    "#     print temp1\n",
    "    x_feature.append(np.array(temp1+temp2+temp3))\n"
   ]
  },
  {
   "cell_type": "code",
   "execution_count": null,
   "metadata": {},
   "outputs": [],
   "source": []
  }
 ],
 "metadata": {
  "kernelspec": {
   "display_name": "Python 2",
   "language": "python",
   "name": "python2"
  },
  "language_info": {
   "codemirror_mode": {
    "name": "ipython",
    "version": 2
   },
   "file_extension": ".py",
   "mimetype": "text/x-python",
   "name": "python",
   "nbconvert_exporter": "python",
   "pygments_lexer": "ipython2",
   "version": "2.7.15"
  }
 },
 "nbformat": 4,
 "nbformat_minor": 2
}
