{
 "cells": [
  {
   "cell_type": "markdown",
   "metadata": {},
   "source": [
    "# Classical ML Training and Results V2 "
   ]
  },
  {
   "cell_type": "markdown",
   "metadata": {},
   "source": [
    "## INITIALIZATION"
   ]
  },
  {
   "cell_type": "code",
   "execution_count": 19,
   "metadata": {},
   "outputs": [],
   "source": [
    "from sklearn import svm\n",
    "from sklearn.model_selection import ShuffleSplit\n",
    "from sklearn.naive_bayes import GaussianNB\n",
    "from sklearn.ensemble import GradientBoostingClassifier\n",
    "import numpy as np\n",
    "import matplotlib.pyplot as plt\n",
    "from sklearn.utils import shuffle \n",
    "import statistics as stats\n",
    "from sklearn.model_selection import cross_val_score"
   ]
  },
  {
   "cell_type": "markdown",
   "metadata": {},
   "source": [
    "## MODEL INITIALIZATION"
   ]
  },
  {
   "cell_type": "code",
   "execution_count": 2,
   "metadata": {},
   "outputs": [],
   "source": [
    "# read data from csv file and put into one matrix \n",
    "# same process of v1\n",
    "def readData(filename,x1):\n",
    "    f = open(\"data/\"+filename,'r')\n",
    "    for row in f:\n",
    "        data = [int(p) for p in row.split(',')]\n",
    "        x1.append(np.array(data))\n",
    "    return \n",
    "\n",
    "x = []\n",
    "readData(\"getOutBed.csv\",x)\n",
    "readData(\"getOnBed.csv\",x)\n",
    "readData(\"layOnBed.csv\",x)\n",
    "readData(\"sitOnBed.csv\",x)"
   ]
  },
  {
   "cell_type": "code",
   "execution_count": 3,
   "metadata": {},
   "outputs": [],
   "source": [
    "# make X an numpy array and initialize Y \n",
    "x = np.array(x)\n",
    "y = np.array([1]*120+[0]*120)"
   ]
  },
  {
   "cell_type": "markdown",
   "metadata": {},
   "source": [
    "## FEATURE EXTRACTION"
   ]
  },
  {
   "cell_type": "code",
   "execution_count": 4,
   "metadata": {},
   "outputs": [],
   "source": [
    "x_feature = []\n",
    "for r in x:\n",
    "    s1, s2, s3 = r[:20000], r[20000:40000], r[40000:]\n",
    "    temp1 = [stats.mean(s1), stats.median(s1), stats.variance(s1), max(s1), min(s1)]\n",
    "    temp2 = [stats.mean(s2), stats.median(s2), stats.variance(s2), max(s2), min(s2)]\n",
    "    temp3 = [stats.mean(s3), stats.median(s3), stats.variance(s3), max(s3), min(s3)]\n",
    "#     print temp1\n",
    "    x_feature.append(np.array(temp1+temp2+temp3))\n"
   ]
  },
  {
   "cell_type": "code",
   "execution_count": 5,
   "metadata": {},
   "outputs": [],
   "source": [
    "x_feature = np.array(x_feature)"
   ]
  },
  {
   "cell_type": "markdown",
   "metadata": {},
   "source": [
    "## BALANCING SAMPLES"
   ]
  },
  {
   "cell_type": "code",
   "execution_count": 6,
   "metadata": {},
   "outputs": [],
   "source": [
    "index = 120+np.random.choice(360,240,replace=False)"
   ]
  },
  {
   "cell_type": "code",
   "execution_count": 7,
   "metadata": {},
   "outputs": [
    {
     "name": "stdout",
     "output_type": "stream",
     "text": [
      "15\n"
     ]
    }
   ],
   "source": [
    "x_lst = x_feature.tolist()\n",
    "print len(x_lst[0])\n",
    "for i in sorted(index, reverse=True):\n",
    "    del x_lst[i]"
   ]
  },
  {
   "cell_type": "code",
   "execution_count": 8,
   "metadata": {},
   "outputs": [],
   "source": [
    "x_feature = np.array(x_lst)"
   ]
  },
  {
   "cell_type": "code",
   "execution_count": 9,
   "metadata": {},
   "outputs": [
    {
     "name": "stdout",
     "output_type": "stream",
     "text": [
      "(240, 15)\n"
     ]
    }
   ],
   "source": [
    "print x_feature.shape"
   ]
  },
  {
   "cell_type": "code",
   "execution_count": 10,
   "metadata": {},
   "outputs": [
    {
     "name": "stdout",
     "output_type": "stream",
     "text": [
      "(<type 'numpy.ndarray'>, <type 'numpy.ndarray'>)\n",
      "(192, 15, 192, 48, 15, 48)\n"
     ]
    }
   ],
   "source": [
    "# shuffle X and Y correspondingly \n",
    "X, Y = shuffle(x_feature, y, random_state = 34)\n",
    "offset = int(len(X)*0.8)\n",
    "X_train, Y_train = X[:offset], Y[:offset]\n",
    "X_test, Y_test = X[offset:], Y[offset:]\n",
    "print (type(X_train), type(Y_train))\n",
    "print (len(X_train), len(X_train[0]), len(Y_train), len(X_test), len(X_test[0]), len(Y_test))"
   ]
  },
  {
   "cell_type": "markdown",
   "metadata": {},
   "source": [
    "## SVM "
   ]
  },
  {
   "cell_type": "code",
   "execution_count": 11,
   "metadata": {},
   "outputs": [
    {
     "name": "stdout",
     "output_type": "stream",
     "text": [
      "[LibSVM]"
     ]
    },
    {
     "data": {
      "text/plain": [
       "SVC(C=1.0, cache_size=200, class_weight=None, coef0=0.0,\n",
       "  decision_function_shape='ovr', degree=3, gamma='scale', kernel='rbf',\n",
       "  max_iter=5000, probability=False, random_state=None, shrinking=True,\n",
       "  tol=0.001, verbose=True)"
      ]
     },
     "execution_count": 11,
     "metadata": {},
     "output_type": "execute_result"
    }
   ],
   "source": [
    "# training of SVM \n",
    "clf = svm.SVC(gamma='scale',max_iter=5000, verbose=True)\n",
    "clf.fit(X_train, Y_train) "
   ]
  },
  {
   "cell_type": "code",
   "execution_count": 12,
   "metadata": {},
   "outputs": [
    {
     "name": "stdout",
     "output_type": "stream",
     "text": [
      "0.75\n"
     ]
    }
   ],
   "source": [
    "# Verification of SVM \n",
    "results = clf.predict(X_test)\n",
    "correct = 0\n",
    "for i in xrange(len(results)):\n",
    "    if results[i] == Y_test[i]:\n",
    "        correct+=1\n",
    "print (correct/float(len(Y_test)))"
   ]
  },
  {
   "cell_type": "markdown",
   "metadata": {},
   "source": [
    "## GAUSSIAN NAIVE BAYES"
   ]
  },
  {
   "cell_type": "code",
   "execution_count": 13,
   "metadata": {},
   "outputs": [
    {
     "data": {
      "text/plain": [
       "GaussianNB(priors=None, var_smoothing=1e-09)"
      ]
     },
     "execution_count": 13,
     "metadata": {},
     "output_type": "execute_result"
    }
   ],
   "source": [
    "# training \n",
    "clf_nb = GaussianNB()\n",
    "clf_nb.fit(X_train, Y_train)"
   ]
  },
  {
   "cell_type": "code",
   "execution_count": 14,
   "metadata": {},
   "outputs": [
    {
     "name": "stdout",
     "output_type": "stream",
     "text": [
      "[1 0 1 0 0 1 0 1 1 0 1 0 0 1 1 1 0 1 1 1 1 1 0 1 0 0 0 1 1 1 0 0 0 0 1 1 1\n",
      " 1 0 1 0 1 1 0 1 0 0 0]\n"
     ]
    }
   ],
   "source": [
    "results_nb = clf_nb.predict(X_test)\n",
    "print results"
   ]
  },
  {
   "cell_type": "code",
   "execution_count": 15,
   "metadata": {},
   "outputs": [
    {
     "name": "stdout",
     "output_type": "stream",
     "text": [
      "0.833333333333\n"
     ]
    }
   ],
   "source": [
    "# verification\n",
    "c_nb = 0 \n",
    "for i in xrange(len(results_nb)):\n",
    "    if results_nb[i] == Y_test[i]:\n",
    "        c_nb += 1\n",
    "print (c_nb/float(len(Y_test)))"
   ]
  },
  {
   "cell_type": "markdown",
   "metadata": {},
   "source": [
    "## GRADIENT BOOSTING CLASSIFIER"
   ]
  },
  {
   "cell_type": "code",
   "execution_count": 39,
   "metadata": {},
   "outputs": [
    {
     "name": "stdout",
     "output_type": "stream",
     "text": [
      "      Iter       Train Loss   Remaining Time \n",
      "         1           0.6280            0.38s\n",
      "         2           0.4397            0.39s\n",
      "         3           0.3261            0.37s\n",
      "         4           0.2599            0.35s\n",
      "         5           0.2385            0.32s\n",
      "         6           0.2035            0.32s\n",
      "         7           0.1787            0.31s\n",
      "         8           0.1448            0.30s\n",
      "         9           0.1088            0.30s\n",
      "        10           0.0948            0.30s\n",
      "        20           0.0277            0.25s\n",
      "        30           0.0092            0.23s\n",
      "        40           0.0036            0.22s\n",
      "        50           0.0013            0.21s\n",
      "        60           0.0006            0.21s\n",
      "        70           0.0003            0.19s\n",
      "        80           0.0003            0.18s\n",
      "        90           0.0003            0.17s\n",
      "       100           0.0003            0.16s\n",
      "       200           0.0003            0.09s\n",
      "       300           0.0003            0.05s\n",
      "       400           0.0003            0.02s\n",
      "       500           0.0003            0.00s\n"
     ]
    }
   ],
   "source": [
    "clf_gbc = GradientBoostingClassifier(n_estimators=500, learning_rate=1.0,max_depth=2, random_state=0, verbose = True).fit(X_train, Y_train)"
   ]
  },
  {
   "cell_type": "code",
   "execution_count": 37,
   "metadata": {},
   "outputs": [
    {
     "data": {
      "text/plain": [
       "0.8958333333333334"
      ]
     },
     "execution_count": 37,
     "metadata": {},
     "output_type": "execute_result"
    }
   ],
   "source": [
    "# verification\n",
    "clf_gbc.score(X_test,Y_test)"
   ]
  },
  {
   "cell_type": "markdown",
   "metadata": {},
   "source": [
    "### Cross Validation"
   ]
  },
  {
   "cell_type": "code",
   "execution_count": 40,
   "metadata": {},
   "outputs": [
    {
     "name": "stdout",
     "output_type": "stream",
     "text": [
      "      Iter       Train Loss   Remaining Time \n",
      "         1           0.6496            0.43s\n",
      "         2           0.4771            0.38s\n",
      "         3           0.3924            0.35s\n",
      "         4           0.3173            0.33s\n",
      "         5           0.3820            0.32s\n",
      "         6           0.1821            0.31s\n",
      "         7           0.1326            0.31s\n",
      "         8           0.1068            0.30s\n",
      "         9           0.0922            0.29s\n",
      "        10           0.0794            0.29s\n",
      "        20           0.0143            0.24s\n",
      "        30           0.0043            0.22s\n",
      "        40           0.0017            0.21s\n",
      "        50           0.0005            0.20s\n",
      "        60           0.0004            0.18s\n",
      "        70           0.0004            0.17s\n",
      "        80           0.0004            0.16s\n",
      "        90           0.0004            0.15s\n",
      "       100           0.0004            0.14s\n",
      "       200           0.0004            0.08s\n",
      "       300           0.0004            0.05s\n",
      "       400           0.0004            0.02s\n",
      "       500           0.0004            0.00s\n",
      "      Iter       Train Loss   Remaining Time \n",
      "         1           0.6195            0.23s\n",
      "         2           0.4283            0.25s\n",
      "         3           0.3005            0.24s\n",
      "         4           0.1763            0.24s\n",
      "         5           0.1363            0.24s\n",
      "         6           0.1167            0.23s\n",
      "         7           0.0974            0.23s\n",
      "         8           0.0834            0.22s\n",
      "         9           0.0696            0.22s\n",
      "        10           0.0545            0.22s\n",
      "        20           0.0120            0.18s\n",
      "        30           0.0030            0.16s\n",
      "        40           0.0008            0.15s\n",
      "        50           0.0003            0.14s\n",
      "        60           0.0003            0.13s\n",
      "        70           0.0003            0.12s\n",
      "        80           0.0003            0.11s\n",
      "        90           0.0003            0.10s\n",
      "       100           0.0003            0.10s\n",
      "       200           0.0003            0.06s\n",
      "       300           0.0003            0.03s\n",
      "       400           0.0003            0.02s\n",
      "       500           0.0003            0.00s\n",
      "      Iter       Train Loss   Remaining Time \n",
      "         1           0.6116            0.20s\n",
      "         2           0.4694            0.22s\n",
      "         3           0.3612            0.21s\n",
      "         4           0.3104            0.20s\n",
      "         5           0.2283            0.20s\n",
      "         6           0.1690            0.20s\n",
      "         7           0.1292            0.20s\n",
      "         8           0.1060            0.21s\n",
      "         9           0.0908            0.21s\n",
      "        10           0.0791            0.20s\n",
      "        20           0.0153            0.17s\n",
      "        30           0.0040            0.15s\n",
      "        40           0.0011            0.14s\n",
      "        50           0.0003            0.14s\n",
      "        60           0.0003            0.13s\n",
      "        70           0.0003            0.12s\n",
      "        80           0.0003            0.11s\n",
      "        90           0.0003            0.11s\n",
      "       100           0.0003            0.10s\n",
      "       200           0.0003            0.06s\n",
      "       300           0.0003            0.04s\n",
      "       400           0.0003            0.02s\n",
      "       500           0.0003            0.00s\n",
      "      Iter       Train Loss   Remaining Time \n",
      "         1           0.6357            0.20s\n",
      "         2           0.4756            0.21s\n",
      "         3           0.3730            0.22s\n",
      "         4           0.3191            0.22s\n",
      "         5           0.2851            0.21s\n",
      "         6           0.2227            0.21s\n",
      "         7           0.1618            0.22s\n",
      "         8           0.1441            0.22s\n",
      "         9           0.1276            0.21s\n",
      "        10           0.0953            0.21s\n",
      "        20           0.0193            0.18s\n",
      "        30           0.0056            0.16s\n",
      "        40           0.0015            0.15s\n",
      "        50           0.0005            0.15s\n",
      "        60           0.0003            0.14s\n",
      "        70           0.0003            0.13s\n",
      "        80           0.0003            0.12s\n",
      "        90           0.0003            0.11s\n",
      "       100           0.0003            0.10s\n",
      "       200           0.0003            0.06s\n",
      "       300           0.0003            0.04s\n",
      "       400           0.0003            0.02s\n",
      "       500           0.0003            0.00s\n",
      "      Iter       Train Loss   Remaining Time \n",
      "         1           0.6106            0.21s\n",
      "         2           0.4413            0.22s\n",
      "         3           0.3046            0.22s\n",
      "         4           0.2300            0.22s\n",
      "         5           0.1850            0.22s\n",
      "         6           0.1382            0.23s\n",
      "         7           0.1172            0.23s\n",
      "         8           0.1015            0.22s\n",
      "         9           0.0785            0.22s\n",
      "        10           0.0699            0.22s\n",
      "        20           0.0148            0.18s\n",
      "        30           0.0035            0.16s\n",
      "        40           0.0007            0.16s\n",
      "        50           0.0003            0.14s\n",
      "        60           0.0003            0.13s\n",
      "        70           0.0003            0.12s\n",
      "        80           0.0003            0.11s\n",
      "        90           0.0003            0.11s\n",
      "       100           0.0003            0.10s\n",
      "       200           0.0003            0.06s\n",
      "       300           0.0003            0.04s\n",
      "       400           0.0003            0.02s\n",
      "       500           0.0003            0.00s\n",
      "[0.88541667 0.85416667 0.88541667 0.88541667 0.86458333]\n"
     ]
    }
   ],
   "source": [
    "cv = ShuffleSplit(n_splits=5, test_size=0.4, random_state=0)\n",
    "this_score = cross_val_score(clf_gbc, X, Y,cv=cv, verbose=0)\n",
    "print this_score"
   ]
  },
  {
   "cell_type": "code",
   "execution_count": null,
   "metadata": {},
   "outputs": [],
   "source": []
  }
 ],
 "metadata": {
  "kernelspec": {
   "display_name": "Python 2",
   "language": "python",
   "name": "python2"
  },
  "language_info": {
   "codemirror_mode": {
    "name": "ipython",
    "version": 2
   },
   "file_extension": ".py",
   "mimetype": "text/x-python",
   "name": "python",
   "nbconvert_exporter": "python",
   "pygments_lexer": "ipython2",
   "version": "2.7.15"
  }
 },
 "nbformat": 4,
 "nbformat_minor": 2
}
